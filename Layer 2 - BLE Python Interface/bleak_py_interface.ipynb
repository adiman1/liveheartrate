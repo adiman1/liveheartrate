{
 "cells": [
  {
   "cell_type": "markdown",
   "id": "f8053835",
   "metadata": {},
   "source": [
    "## BLE Heart Rate Streaming (Garmin) – Notebook Interface"
   ]
  },
  {
   "cell_type": "markdown",
   "id": "19a3b439",
   "metadata": {},
   "source": [
    "### Cell 1 – Module Imports\n",
    "These are the required modules:\n",
    "\n",
    "- `bleak`: for Bluetooth Low Energy scanning and connection\n",
    "- `asyncio`: to enable asynchronous BLE interactions\n",
    "- `datetime`: for timestamping/logging heart rate values"
   ]
  },
  {
   "cell_type": "code",
   "execution_count": null,
   "id": "4685a42e",
   "metadata": {},
   "outputs": [],
   "source": [
    "from bleak import BleakClient\n",
    "from bleak import BleakScanner\n",
    "import asyncio\n",
    "from datetime import datetime"
   ]
  },
  {
   "cell_type": "markdown",
   "id": "db4363b0",
   "metadata": {},
   "source": [
    "### Cell 2 – Scan 📶 for Available BLE Devices\n",
    "This function uses `BleakScanner.discover()` to find nearby Bluetooth Low Energy devices. It prints the address and name of each discovered device."
   ]
  },
  {
   "cell_type": "code",
   "execution_count": null,
   "id": "83b87492",
   "metadata": {},
   "outputs": [],
   "source": [
    "devices = await BleakScanner.discover()\n",
    "for d in devices:\n",
    "    print(d)"
   ]
  },
  {
   "cell_type": "markdown",
   "id": "db48285f",
   "metadata": {},
   "source": [
    "#### 📦 Sample Output:\n",
    "```\n",
    "D4:4A:C4:B0:24:03: Forerunner\n",
    "\n",
    "This is called Media Access Control (MAC) - A hardware Identifier.\n",
    "```"
   ]
  },
  {
   "cell_type": "markdown",
   "id": "7d4c065b",
   "metadata": {},
   "source": [
    "### Cell 3 – Connect 🔗 to Device and List Available Services\n",
    "Replace the address below with your device's BLE MAC. This connects to the Garmin device and prints all available **services and characteristics**."
   ]
  },
  {
   "cell_type": "code",
   "execution_count": null,
   "id": "a2acb2c0",
   "metadata": {},
   "outputs": [],
   "source": [
    "address = \"D4:4A:C4:B0:24:03\"  # Your Garmin BLE MAC address\n",
    "\n",
    "async def main():\n",
    "    async with BleakClient(address) as client: # Create client instance/connection\n",
    "        print(\"Connected:\", client.is_connected)\n",
    "\n",
    "        # Loop and print all services and characteristics with their description and properties in a hierarchy\n",
    "\n",
    "        print(\"\\nAvailable services:\\n\")\n",
    "        for service in client.services:\n",
    "            print(f\"[Service] {service.uuid}: {service.description}\")\n",
    "            for char in service.characteristics:\n",
    "                print(f\"  ├─ [Char] {char.uuid} ({char.properties})\")\n",
    "\n",
    "await main()"
   ]
  },
  {
   "cell_type": "markdown",
   "id": "bbe57216",
   "metadata": {},
   "source": [
    "#### 📦 Sample Output:\n",
    "```\n",
    "Connected: True\n",
    "\n",
    "Available services:\n",
    "\n",
    "[Service] 00001800-0000-1000-8000-00805f9b34fb: Generic Access Profile\n",
    "  ├─ [Char] 00002a00-0000-1000-8000-00805f9b34fb (['read'])\n",
    "  ├─ [Char] 00002a01-0000-1000-8000-00805f9b34fb (['read'])\n",
    "  ├─ [Char] 00002a04-0000-1000-8000-00805f9b34fb (['read'])\n",
    "  ├─ [Char] 00002aa6-0000-1000-8000-00805f9b34fb (['read'])\n",
    "[Service] 00001801-0000-1000-8000-00805f9b34fb: Generic Attribute Profile\n",
    "  ├─ [Char] 00002a05-0000-1000-8000-00805f9b34fb (['indicate'])\n",
    "[Service] 6a4e8022-667b-11e3-949a-0800200c9a66: Unknown\n",
    "  ├─ [Char] 6a4e4c80-667b-11e3-949a-0800200c9a66 (['write-without-response'])\n",
    "  ├─ [Char] 6a4ecd28-667b-11e3-949a-0800200c9a66 (['notify', 'read'])\n",
    "[Service] 0000180d-0000-1000-8000-00805f9b34fb: Heart Rate\n",
    "  ├─ [Char] 00002a37-0000-1000-8000-00805f9b34fb (['notify'])\n",
    "[Service] 00001814-0000-1000-8000-00805f9b34fb: Running Speed and Cadence\n",
    "  ├─ [Char] 00002a54-0000-1000-8000-00805f9b34fb (['read'])\n",
    "  ├─ [Char] 00002a53-0000-1000-8000-00805f9b34fb (['notify'])\n",
    "...\n",
    "```"
   ]
  },
  {
   "cell_type": "markdown",
   "id": "d43a6eb6",
   "metadata": {},
   "source": [
    "### Cell 4 – Print ❤️ Heart Rate Notification \n",
    "Use you Device MAC and UUID for Heart Rate. This connects to the Heart Rate service and prints **Heart Rate in Beats Per Min**."
   ]
  },
  {
   "cell_type": "code",
   "execution_count": null,
   "id": "56953ebd",
   "metadata": {},
   "outputs": [],
   "source": [
    "# -----------------------------------------------\n",
    "# BLE Configuration for Garmin Heart Rate Monitor\n",
    "# -----------------------------------------------\n",
    "\n",
    "# Device-specific MAC address\n",
    "address = \"D4:4A:C4:B0:24:03\"  \n",
    "\n",
    "# UUID for the Heart Rate Measurement Characteristic\n",
    "# Used to subscribe to notifications from the device\n",
    "HR_CHAR_UUID = \"00002a37-0000-1000-8000-00805f9b34fb\"\n",
    "\n",
    "\n",
    "# ------------------------------------------------\n",
    "# Callback Function: Processes heart rate data\n",
    "# ------------------------------------------------\n",
    "# → This function is passed to start_notify()\n",
    "# → Triggered each time the device sends heart rate data\n",
    "# → Parameters `sender` and `data` are passed by Bleak\n",
    "\n",
    "def handle_hr_notification(sender, data):\n",
    "    # Byte structure: [flags, heart_rate, ...]\n",
    "    heart_rate = data[1]  # ← Byte 1 holds the HR value\n",
    "    print(f\"Heart Rate: {heart_rate} bpm\")\n",
    "\n",
    "\n",
    "# --------------------------------------------------------------\n",
    "# Main async function: Connects, subscribes, listens for HR Data\n",
    "# --------------------------------------------------------------\n",
    "async def main():\n",
    "    # Connect to device using MAC address\n",
    "    async with BleakClient(address) as client:\n",
    "        print(\"Connected:\", client.is_connected)\n",
    "\n",
    "        # Subscribe to notifications from HR characteristic\n",
    "        # Uses: HR_CHAR_UUID + callback function\n",
    "        await client.start_notify(HR_CHAR_UUID, handle_hr_notification)\n",
    "        print(\"Listening for heart rate notifications...\")\n",
    "\n",
    "        await asyncio.sleep(10)  # Listen duration (in seconds)\n",
    "\n",
    "        # Unsubscribe after listening\n",
    "        await client.stop_notify(HR_CHAR_UUID)\n",
    "        print(\"Stopped notifications.\")\n",
    "\n",
    "\n",
    "# ------------------------------------------------\n",
    "# Entry point: Run the async main function\n",
    "# ------------------------------------------------\n",
    "await main()\n"
   ]
  },
  {
   "cell_type": "markdown",
   "id": "04177456",
   "metadata": {},
   "source": [
    "#### 📦 Sample Output:\n",
    "\n",
    "````\n",
    "Connected: True\n",
    "Listening for heart rate notifications...\n",
    "Heart Rate: 82 bpm\n",
    "Heart Rate: 82 bpm\n",
    "Heart Rate: 85 bpm\n",
    "````"
   ]
  }
 ],
 "metadata": {
  "language_info": {
   "name": "python"
  }
 },
 "nbformat": 4,
 "nbformat_minor": 5
}
